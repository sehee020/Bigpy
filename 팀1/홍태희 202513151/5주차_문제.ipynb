{
  "cells": [
    {
      "cell_type": "markdown",
      "metadata": {
        "id": "HIwJVhAIahjb"
      },
      "source": [
        "사용자에게 이름을 입력받고, \"안녕하세요, OOO님!\" 형식으로 출력하는 프로그램을 작성하시오."
      ]
    },
    {
      "cell_type": "code",
      "execution_count": null,
      "metadata": {
        "id": "yTW1hncaahH_"
      },
      "outputs": [],
      "source": []
    },
    {
      "cell_type": "markdown",
      "metadata": {
        "id": "fHUlrcm1arDs"
      },
      "source": [
        "사용자로부터 3줄의 문장을 입력받아 note.txt에 저장하는 프로그램을 작성하시오.\n",
        "입력은 input()으로 받고, 입력이 끝나면 \"파일 저장 완료!\"를 출력하시오."
      ]
    },
    {
      "cell_type": "markdown",
      "metadata": {
        "id": "JQSg97M7armu"
      },
      "source": [
        "예시문장:\n",
        " ①빅파이 최고!\n",
        "  ②5월 13일은 정기모임의 날이다.\n",
        "   ③ 빅파이 부회장 멋있다."
      ]
    },
    {
      "cell_type": "code",
      "execution_count": null,
      "metadata": {
        "id": "4n_OC8w5bq22"
      },
      "outputs": [],
      "source": []
    },
    {
      "cell_type": "markdown",
      "metadata": {
        "id": "UEySpnAOau8e"
      },
      "source": [
        "note.txt 파일을 읽고, 각 줄 앞에 줄 번호를 붙여 출력하시오."
      ]
    },
    {
      "cell_type": "code",
      "execution_count": null,
      "metadata": {
        "id": "Y8KU5GRqbrg-"
      },
      "outputs": [],
      "source": []
    },
    {
      "cell_type": "markdown",
      "metadata": {
        "id": "W9AcafI8au6i"
      },
      "source": [
        "명령행으로 입력한 인수를 한 줄씩 출력하시오."
      ]
    },
    {
      "cell_type": "markdown",
      "metadata": {
        "id": "tS5mCUWaau1r"
      },
      "source": [
        "인수: 2025, 05, 13"
      ]
    },
    {
      "cell_type": "code",
      "execution_count": null,
      "metadata": {
        "id": "07pDcadKbtzq"
      },
      "outputs": [],
      "source": []
    },
    {
      "cell_type": "markdown",
      "metadata": {
        "id": "Ks-1NM6eauwC"
      },
      "source": [
        "명령행 인수로 전달된 정수들을 더해 합계를 출력하시오\n"
      ]
    },
    {
      "cell_type": "code",
      "execution_count": null,
      "metadata": {
        "id": "wsvQ-EDbbuWK"
      },
      "outputs": [],
      "source": []
    },
    {
      "cell_type": "markdown",
      "metadata": {
        "id": "yU8YfCHwaun0"
      },
      "source": [
        "Student 클래스를 정의하고 이름, 학번을 속성으로 저장하며 show_info() 메서드로 출력하시오. (본인이름 과 학번)"
      ]
    },
    {
      "cell_type": "code",
      "execution_count": null,
      "metadata": {
        "id": "NgMsmjeNbuz6"
      },
      "outputs": [],
      "source": []
    },
    {
      "cell_type": "markdown",
      "metadata": {
        "id": "mVsVTyZLaujA"
      },
      "source": [
        "Student 클래스를 상속하는 StudentScore 클래스를 정의하고, 점수에 따라 학점을 계산하시오. (90점 이상 A, 80 ~ 89점 B, 70 ~ 79점\n",
        "  C, 그 외 F)"
      ]
    },
    {
      "cell_type": "code",
      "execution_count": null,
      "metadata": {
        "id": "jyiG6JzXbves"
      },
      "outputs": [],
      "source": []
    }
  ],
  "metadata": {
    "colab": {
      "provenance": []
    },
    "kernelspec": {
      "display_name": "Python 3",
      "name": "python3"
    },
    "language_info": {
      "name": "python"
    }
  },
  "nbformat": 4,
  "nbformat_minor": 0
}
