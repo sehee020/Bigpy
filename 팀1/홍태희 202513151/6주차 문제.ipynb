{
 "cells": [
  {
   "cell_type": "markdown",
   "id": "14127ce0",
   "metadata": {},
   "source": [
    "### 문제 1. sympy를 설치하는 코드와 불러오는 코드를 모두 아래 블록에 작성하시오."
   ]
  },
  {
   "cell_type": "code",
   "execution_count": null,
   "id": "7951fc9c",
   "metadata": {},
   "outputs": [],
   "source": []
  },
  {
   "cell_type": "markdown",
   "id": "afd6135a",
   "metadata": {},
   "source": [
    "### 문제 2. sympy 라이브러리를 사용하여 다음 문제를 해결하시오.\n",
    "시윤이는 가진 돈의 5분의 2로 학용품을 샀다고 한다. 이때 학용품을 사는 데 쓴 돈이 1,760원일 때 남은 돈을 구하시오."
   ]
  },
  {
   "cell_type": "code",
   "execution_count": null,
   "id": "001e6983",
   "metadata": {},
   "outputs": [],
   "source": []
  },
  {
   "cell_type": "markdown",
   "id": "d2091461",
   "metadata": {},
   "source": [
    "### 문제 3. sympy 라이브러리를 사용하여 다음 문제를 해결하시오.\n",
    "x <sup>3</sup> = 6에서 x의 값을 구하시오."
   ]
  },
  {
   "cell_type": "code",
   "execution_count": null,
   "id": "c7f8e862",
   "metadata": {},
   "outputs": [],
   "source": []
  },
  {
   "cell_type": "markdown",
   "id": "ebc130a8",
   "metadata": {},
   "source": [
    "### 문제 4. 다음 문제를 해결하시오.\n",
    "한 카페에서는 음료를 10잔 사면 1잔을 무료로 제공하는 적립 쿠폰 시스템을 운영 중이다. 총 음료 구매 개수가 주어졌을 때, 몇 잔의 무료 음료를 받을 수 있는지 계산하는 코드를 작성하시오.\n",
    "\n",
    "**예시 <Br>**\n",
    "총 음료 구매 개수: 3잔 ➡ 무료 음료 제공: 0잔 <br>\n",
    "총 음료 구매 개수: 11잔 ➡ 무료 음료 제공: 1잔<Br>\n",
    "총 음료 구매 개수: 43잔 ➡ 무료 음료 제공: 4잔"
   ]
  },
  {
   "cell_type": "code",
   "execution_count": null,
   "id": "12ee2b10",
   "metadata": {},
   "outputs": [],
   "source": [
    "def 함수 이름(음료 구매 개수):"
   ]
  },
  {
   "cell_type": "markdown",
   "id": "a83d7605",
   "metadata": {},
   "source": [
    "### 문제 5. 다음 문제를 해결하시오.\n",
    "근무시간과 시급을 입력받아 시급을 계산하는 프로그램을 작성하시오. \n",
    "\n",
    "**조건 <Br>**\n",
    "1. 근무시간이 8시간을 초과한 시간부터는 시급의 1.5배를 적용한다.\n",
    "2. 근무시간과 시급을 입력받아 그에 맞는 1일치 일당을 출력하도록 한다."
   ]
  },
  {
   "cell_type": "code",
   "execution_count": null,
   "id": "f855087d",
   "metadata": {},
   "outputs": [],
   "source": [
    "def 함수 이름 (근무시간, 시급):"
   ]
  },
  {
   "cell_type": "markdown",
   "id": "d4458873",
   "metadata": {},
   "source": [
    "### 문제 6. 다음 문제를 해결하시오.\n",
    "1,000원 이상을 결제하면 소비 복권을 제공하는 이벤트를 운영하고 있다. 1천 원 미만 결제 시에는 사탕을 제공하며 소비 복권은 제공하지 않는다. 소비 복권을 긁으면 0원(꽝)~10만 원 사이의 금액이 무작위로 나온다.\n",
    "\n",
    "**조건 <Br>**\n",
    "1. random 라이브러리를 사용할 것\n",
    "2. 결제 금액을 입력받도록 한다.<br>\n",
    "2-1. 결제 금액이 1천 원 미만이면 \"사탕을 드립니다!\"라고 출력한다.<br>\n",
    "2-2. 결제 금액이 1천 원 이상이면 소비 복권을 한 장 지급하고 0원~10만원 사이의 무작위 금액을 출력하도록 한다."
   ]
  },
  {
   "cell_type": "code",
   "execution_count": null,
   "id": "e6e027b5",
   "metadata": {},
   "outputs": [],
   "source": [
    "import random as rd\n",
    "\n",
    "def 함수 이름 (결제 금액):"
   ]
  },
  {
   "cell_type": "markdown",
   "id": "c60b12bc",
   "metadata": {},
   "source": [
    "### 문제 7. 다음 문제를 해결하시오.\n",
    "오늘 날짜가 주말인지 평일인지 판별하시오. datetime 라이브러리를 이용할 것."
   ]
  },
  {
   "cell_type": "code",
   "execution_count": null,
   "id": "cd492e02",
   "metadata": {},
   "outputs": [],
   "source": []
  }
 ],
 "metadata": {
  "kernelspec": {
   "display_name": "Python 3",
   "language": "python",
   "name": "python3"
  },
  "language_info": {
   "codemirror_mode": {
    "name": "ipython",
    "version": 3
   },
   "file_extension": ".py",
   "mimetype": "text/x-python",
   "name": "python",
   "nbconvert_exporter": "python",
   "pygments_lexer": "ipython3",
   "version": "3.11.2"
  }
 },
 "nbformat": 4,
 "nbformat_minor": 5
}
